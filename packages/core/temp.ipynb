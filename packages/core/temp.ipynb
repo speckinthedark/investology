{
 "metadata": {
  "language_info": {
   "codemirror_mode": {
    "name": "ipython",
    "version": 3
   },
   "file_extension": ".py",
   "mimetype": "text/x-python",
   "name": "python",
   "nbconvert_exporter": "python",
   "pygments_lexer": "ipython3",
   "version": "3.8.5"
  },
  "orig_nbformat": 4,
  "kernelspec": {
   "name": "python3",
   "display_name": "Python 3.8.5 64-bit ('venv': conda)"
  },
  "interpreter": {
   "hash": "f450642ff10731b30451bd5252abf8637a25f8f9c372efc9b66c3b350549645a"
  }
 },
 "nbformat": 4,
 "nbformat_minor": 2,
 "cells": [
  {
   "cell_type": "code",
   "execution_count": 1,
   "metadata": {},
   "outputs": [],
   "source": [
    "import pandas as pd \n",
    "import numpy as np"
   ]
  },
  {
   "cell_type": "code",
   "execution_count": 2,
   "metadata": {},
   "outputs": [],
   "source": [
    "df = pd.read_pickle(\"./resources/data/hist_Close.pkl\")"
   ]
  },
  {
   "cell_type": "code",
   "execution_count": 9,
   "metadata": {},
   "outputs": [
    {
     "output_type": "stream",
     "name": "stdout",
     "text": [
      "              SBIN  MINDTREE\nDate                        \n2018-07-10  263.75   1036.30\n2018-07-11  259.10   1048.35\n2018-07-12  262.75   1076.85\n2018-07-13  257.75   1066.80\n2018-07-16  251.60   1080.65\n              SBIN  MINDTREE\n2018-07-10  263.75   1036.30\n2018-07-11  259.10   1048.35\n2018-07-12  262.75   1076.85\n2018-07-13  257.75   1066.80\n2018-07-14     NaN       NaN\n2018-07-15     NaN       NaN\n2018-07-16  251.60   1080.65\n"
     ]
    }
   ],
   "source": [
    "df_head = df.head()\n",
    "\n",
    "print(df.head())\n",
    "\n",
    "min_date = df_head.index.min()\n",
    "max_date = df_head.index.max()\n",
    "\n",
    "idx = pd.date_range(min_date, max_date)\n",
    "\n",
    "df_head = df_head.reindex(idx, fill_value = np.nan)\n",
    "\n",
    "print(df_head)"
   ]
  },
  {
   "cell_type": "code",
   "execution_count": 6,
   "metadata": {},
   "outputs": [
    {
     "output_type": "execute_result",
     "data": {
      "text/plain": [
       "DatetimeIndex(['2018-07-10', '2018-07-11', '2018-07-12', '2018-07-13',\n",
       "               '2018-07-14', '2018-07-15', '2018-07-16'],\n",
       "              dtype='datetime64[ns]', freq='D')"
      ]
     },
     "metadata": {},
     "execution_count": 6
    }
   ],
   "source": [
    "idx"
   ]
  }
 ]
}