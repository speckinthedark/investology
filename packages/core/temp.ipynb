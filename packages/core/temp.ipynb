{
 "metadata": {
  "language_info": {
   "codemirror_mode": {
    "name": "ipython",
    "version": 3
   },
   "file_extension": ".py",
   "mimetype": "text/x-python",
   "name": "python",
   "nbconvert_exporter": "python",
   "pygments_lexer": "ipython3",
   "version": "3.8.5"
  },
  "orig_nbformat": 4,
  "kernelspec": {
   "name": "python3",
   "display_name": "Python 3.8.5 64-bit ('venv': conda)"
  },
  "interpreter": {
   "hash": "f450642ff10731b30451bd5252abf8637a25f8f9c372efc9b66c3b350549645a"
  }
 },
 "nbformat": 4,
 "nbformat_minor": 2,
 "cells": [
  {
   "cell_type": "code",
   "execution_count": 4,
   "metadata": {},
   "outputs": [],
   "source": [
    "import pandas as pd \n",
    "import numpy as np"
   ]
  },
  {
   "cell_type": "code",
   "execution_count": 5,
   "metadata": {},
   "outputs": [],
   "source": [
    "df = pd.read_pickle(\"./resources/data/hist_Close.pkl\")"
   ]
  },
  {
   "cell_type": "code",
   "execution_count": 6,
   "metadata": {},
   "outputs": [],
   "source": [
    "# df_head = df.head()\n",
    "\n",
    "# print(df.head())\n",
    "\n",
    "# min_date = df_head.index.min()\n",
    "# max_date = df_head.index.max()\n",
    "\n",
    "# idx = pd.date_range(min_date, max_date)\n",
    "\n",
    "# df_head = df_head.reindex(idx, fill_value = np.nan)\n",
    "\n",
    "# print(df_head)\n",
    "\n"
   ]
  },
  {
   "cell_type": "code",
   "execution_count": 39,
   "metadata": {},
   "outputs": [],
   "source": [
    "df = pd.read_pickle('./resources/data/stocks_history/SBIN.pkl')"
   ]
  },
  {
   "cell_type": "code",
   "execution_count": 40,
   "metadata": {},
   "outputs": [
    {
     "output_type": "execute_result",
     "data": {
      "text/plain": [
       "             Close    VWAP    Volume      Turnover  Trades  \\\n",
       "Date                                                         \n",
       "2021-07-12  427.45  427.88  12886781  5.513982e+14  130234   \n",
       "2021-07-13  429.10  429.95  12831125  5.516711e+14  116776   \n",
       "2021-07-14  431.05  429.74  12767351  5.486703e+14  157944   \n",
       "2021-07-15  431.70  431.53  11030732  4.760107e+14  126999   \n",
       "2021-07-16  430.00  429.67   8713863  3.744069e+14   86998   \n",
       "\n",
       "            Deliverable Volume  %Deliverble  \n",
       "Date                                         \n",
       "2021-07-12             3100116       0.2406  \n",
       "2021-07-13             4276395       0.3333  \n",
       "2021-07-14             4429592       0.3469  \n",
       "2021-07-15             3378724       0.3063  \n",
       "2021-07-16             2161111       0.2480  "
      ],
      "text/html": "<div>\n<style scoped>\n    .dataframe tbody tr th:only-of-type {\n        vertical-align: middle;\n    }\n\n    .dataframe tbody tr th {\n        vertical-align: top;\n    }\n\n    .dataframe thead th {\n        text-align: right;\n    }\n</style>\n<table border=\"1\" class=\"dataframe\">\n  <thead>\n    <tr style=\"text-align: right;\">\n      <th></th>\n      <th>Close</th>\n      <th>VWAP</th>\n      <th>Volume</th>\n      <th>Turnover</th>\n      <th>Trades</th>\n      <th>Deliverable Volume</th>\n      <th>%Deliverble</th>\n    </tr>\n    <tr>\n      <th>Date</th>\n      <th></th>\n      <th></th>\n      <th></th>\n      <th></th>\n      <th></th>\n      <th></th>\n      <th></th>\n    </tr>\n  </thead>\n  <tbody>\n    <tr>\n      <th>2021-07-12</th>\n      <td>427.45</td>\n      <td>427.88</td>\n      <td>12886781</td>\n      <td>5.513982e+14</td>\n      <td>130234</td>\n      <td>3100116</td>\n      <td>0.2406</td>\n    </tr>\n    <tr>\n      <th>2021-07-13</th>\n      <td>429.10</td>\n      <td>429.95</td>\n      <td>12831125</td>\n      <td>5.516711e+14</td>\n      <td>116776</td>\n      <td>4276395</td>\n      <td>0.3333</td>\n    </tr>\n    <tr>\n      <th>2021-07-14</th>\n      <td>431.05</td>\n      <td>429.74</td>\n      <td>12767351</td>\n      <td>5.486703e+14</td>\n      <td>157944</td>\n      <td>4429592</td>\n      <td>0.3469</td>\n    </tr>\n    <tr>\n      <th>2021-07-15</th>\n      <td>431.70</td>\n      <td>431.53</td>\n      <td>11030732</td>\n      <td>4.760107e+14</td>\n      <td>126999</td>\n      <td>3378724</td>\n      <td>0.3063</td>\n    </tr>\n    <tr>\n      <th>2021-07-16</th>\n      <td>430.00</td>\n      <td>429.67</td>\n      <td>8713863</td>\n      <td>3.744069e+14</td>\n      <td>86998</td>\n      <td>2161111</td>\n      <td>0.2480</td>\n    </tr>\n  </tbody>\n</table>\n</div>"
     },
     "metadata": {},
     "execution_count": 40
    }
   ],
   "source": [
    "df.tail()"
   ]
  },
  {
   "cell_type": "code",
   "execution_count": 27,
   "metadata": {},
   "outputs": [
    {
     "output_type": "execute_result",
     "data": {
      "text/plain": [
       "['Close',\n",
       " 'VWAP',\n",
       " 'Volume',\n",
       " 'Turnover',\n",
       " 'Trades',\n",
       " 'Deliverable Volume',\n",
       " '%Deliverble']"
      ]
     },
     "metadata": {},
     "execution_count": 27
    }
   ],
   "source": [
    "df.columns.to_list()"
   ]
  },
  {
   "cell_type": "code",
   "execution_count": null,
   "metadata": {},
   "outputs": [],
   "source": []
  }
 ]
}